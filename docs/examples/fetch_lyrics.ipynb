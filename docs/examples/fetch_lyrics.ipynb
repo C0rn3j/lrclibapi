{
 "cells": [
  {
   "cell_type": "markdown",
   "metadata": {},
   "source": [
    "# 📝 Example: Fetching lyrics using the API\n"
   ]
  },
  {
   "cell_type": "markdown",
   "metadata": {},
   "source": [
    "install dependencies\n"
   ]
  },
  {
   "cell_type": "code",
   "execution_count": 1,
   "metadata": {},
   "outputs": [],
   "source": [
    "%pip install lrclibapi\n",
    "from IPython.display import clear_output\n",
    "clear_output()\n"
   ]
  },
  {
   "cell_type": "markdown",
   "metadata": {},
   "source": [
    "## Initialize the API\n",
    "\n",
    "> using the useragent is recommended by the API documentation\n"
   ]
  },
  {
   "cell_type": "code",
   "execution_count": 2,
   "metadata": {},
   "outputs": [
    {
     "name": "stdout",
     "output_type": "stream",
     "text": [
      "[00:17.12] I feel your breath upon my neck\n",
      "[00:20.41] A soft caress as cold as death\n",
      "[00:29.60] I didn't know you well back then\n",
      "[00:32.82] I blame it all on luck and vain\n",
      "[00:41.37] Your blood like wine, I wanted in\n",
      "[00:44.62] Oh darling, get me drunk and make me feel\n",
      "[00:49.72] \n",
      "[00:51.12] It's not my fault\n",
      "[00:53.94] I'm not to blame\n",
      "[00:57.02] These ain't my sins\n",
      "[01:00.15] I broke my chains\n",
      "[01:03.10] There's more to do\n",
      "[01:04.54] And I still want to live\n",
      "[01:08.42] \n",
      "[01:13.22] I feel your breath, upon my neck\n",
      "[01:16.49] A soft caress, as cold as death\n",
      "[01:25.67] I feel your heart-beat in my soul\n",
      "[01:29.07] Our futures bound, our bodies know\n",
      "[01:37.55] Your blood like wine, I wanted in\n",
      "[01:40.70] Oh darling get me drunk, invite me in\n",
      "[01:45.82] \n",
      "[01:47.14] It's not my fault\n",
      "[01:50.17] I'm not to blame\n",
      "[01:53.20] Thesе ain't my sins\n",
      "[01:56.28] I broke my chains\n",
      "[01:59.27] There's morе to do\n",
      "[02:00.69] If I can only live\n",
      "[02:04.47] \n",
      "[02:08.77] I can't go yet\n",
      "[02:11.75] Don't let me die\n",
      "[02:14.95] I'll never stop\n",
      "[02:18.15] Until I'm done\n",
      "[02:21.24] But just tonight\n",
      "[02:23.79] Maybe I'll rest in peace\n",
      "[02:28.94] \n",
      "[02:37.39] I feel your breath upon my neck\n",
      "[02:40.59] A soft caress as cold as death (Cold as death)\n",
      "[02:49.80] I hear your heart-beat in my soul\n",
      "[02:53.04] Our endings bound, our bodies know\n",
      "[02:58.10] \n",
      "[03:01.70] I can't go yet\n",
      "[03:04.84] Don't let me die\n",
      "[03:07.89] I want to live\n",
      "[03:10.99] My only one\n",
      "[03:13.95] There's more to do, if we can only live\n",
      "[03:20.31] The clock won't stop and this is what we get\n",
      "[03:25.72] \n"
     ]
    }
   ],
   "source": [
    "from lrclib import LrcLibAPI\n",
    "\n",
    "# Create an instance of the API\n",
    "api = LrcLibAPI(user_agent=\"my-app/0.0.1\")\n",
    "\n",
    "# Get lyrics for a track\n",
    "lyrics = api.get_lyrics(\n",
    "    track_name=\"I Want to Live\",\n",
    "    artist_name=\"Borislav Slavov\",\n",
    "    album_name=\"Baldur's Gate 3 (Original Game Soundtrack)\",\n",
    "    duration=233,\n",
    ")\n",
    "\n",
    "# Print the lyrics\n",
    "print(lyrics.synced_lyrics or lyrics.plain_lyrics)"
   ]
  },
  {
   "cell_type": "markdown",
   "metadata": {},
   "source": [
    "## Don't know exactly what to search for?\n",
    "\n",
    "Use the search endpoint\n"
   ]
  },
  {
   "cell_type": "code",
   "execution_count": 3,
   "metadata": {},
   "outputs": [
    {
     "name": "stdout",
     "output_type": "stream",
     "text": [
      "Exile - I Don't Want To Be A Memory (Live At Billy Bob's Texas)\n",
      "Don Williams - I Wouldn't Want To Live If You Didn't Love Me (Volume Three)\n",
      "Don Williams - I Wouldn't Want To Live If You Didn't Love Me (The Definitive Collection)\n",
      "Ben Harper - I Want To Be Ready (The Will To Live)\n",
      "Ben Harper - I Want to Be Ready (The Will to Live)\n"
     ]
    }
   ],
   "source": [
    "# Search for a lyrics\n",
    "results = api.search_lyrics(\n",
    "    track_name=\"I Want to Live\",\n",
    ")\n",
    "\n",
    "# Print the results\n",
    "for result in results[:5]:\n",
    "    print(f\"{result.artist_name} - {result.track_name} ({result.album_name})\")"
   ]
  },
  {
   "cell_type": "markdown",
   "metadata": {},
   "source": [
    "## Fetch lyrics for a song using id\n"
   ]
  },
  {
   "cell_type": "code",
   "execution_count": 4,
   "metadata": {},
   "outputs": [
    {
     "name": "stdout",
     "output_type": "stream",
     "text": [
      "[00:06.98] I don't want to be a memory\n",
      "[00:11.59] Just a shadow in your mind\n",
      "[00:15.25] Wanna be the one you always need\n",
      "[00:19.85] Not the one you left behind\n",
      "[00:23.54] I don't want to be a notch in your handle\n",
      "[00:28.14] Another love casualty\n",
      "[00:30.84] So lay back down and let's talk it over\n",
      "[00:35.58] 'Cause I don't want to be a memory\n",
      "[00:43.74] Don't you remember how it used to be\n",
      "[00:48.31] When we were so in love\n",
      "[00:52.07] We spent the nights in a two-room flat\n",
      "[00:56.62] Drinking wine from a coffee cup\n",
      "[01:00.22] Making love was so very easy\n",
      "[01:04.84] We couldn't get enough\n",
      "[01:08.56] I never dreamed there would come a time\n",
      "[01:13.17] When you'd think about giving me up\n",
      "[01:17.80] I don't want to be a memory\n",
      "[01:23.18] Just a shadow in your mind\n",
      "[01:26.82] I wanna be the one you always need\n",
      "[01:31.42] Not the one you left behind\n",
      "[01:36.08] I don't want to be a notch in your handle\n",
      "[01:39.78] Another love casualty\n",
      "[01:43.40] So lay back down and let's talk it over\n",
      "[01:47.10] 'Cause I don't want to be a memory\n",
      "[01:57.26] I know you've had other lovers\n",
      "[02:18.33] But that's all history\n",
      "[02:21.97] I got to know that you'll let me be the last one\n",
      "[02:27.42] To share your company\n",
      "[02:32.05] I don't want to be a memory\n",
      "[02:36.66] Just a shadow in your mind\n",
      "[02:40.38] I wanna be the one you always need\n",
      "[02:44.87] Not the one you left behind\n",
      "[02:48.56] I don't want to be a notch in your handle\n",
      "[02:53.27] Another love casualty\n",
      "[02:56.86] So lay back down and let's talk it over\n",
      "[03:01.42] 'Cause I don't want to be\n",
      "[03:04.11] I don't want to be a memory\n",
      "[03:07.85] Just a shadow in your mind\n",
      "[03:11.54] I wanna be the one you always need\n",
      "[03:15.28] Not the one you left behind\n",
      "[03:19.85] I don't want to be a memory\n",
      "[03:25.69] \n"
     ]
    }
   ],
   "source": [
    "lyrics = api.get_lyrics_by_id(results[0].id)\n",
    "\n",
    "print(lyrics.synced_lyrics or lyrics.plain_lyrics)"
   ]
  }
 ],
 "metadata": {
  "kernelspec": {
   "display_name": "Python 3",
   "language": "python",
   "name": "python3"
  },
  "language_info": {
   "codemirror_mode": {
    "name": "ipython",
    "version": 3
   },
   "file_extension": ".py",
   "mimetype": "text/x-python",
   "name": "python",
   "nbconvert_exporter": "python",
   "pygments_lexer": "ipython3",
   "version": "3.11.0"
  }
 },
 "nbformat": 4,
 "nbformat_minor": 2
}
